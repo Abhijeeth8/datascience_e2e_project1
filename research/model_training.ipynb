{
 "cells": [
  {
   "cell_type": "code",
   "execution_count": 1,
   "metadata": {},
   "outputs": [
    {
     "data": {
      "text/plain": [
       "'d:\\\\mlflow\\\\datascience-e2e-project1\\\\research'"
      ]
     },
     "execution_count": 1,
     "metadata": {},
     "output_type": "execute_result"
    }
   ],
   "source": [
    "import os\n",
    "%pwd"
   ]
  },
  {
   "cell_type": "code",
   "execution_count": 3,
   "metadata": {},
   "outputs": [],
   "source": [
    "os.chdir(\"../\")"
   ]
  },
  {
   "cell_type": "code",
   "execution_count": 4,
   "metadata": {},
   "outputs": [
    {
     "data": {
      "text/plain": [
       "'d:\\\\mlflow\\\\datascience-e2e-project1'"
      ]
     },
     "execution_count": 4,
     "metadata": {},
     "output_type": "execute_result"
    }
   ],
   "source": [
    "%pwd"
   ]
  },
  {
   "cell_type": "code",
   "execution_count": 6,
   "metadata": {},
   "outputs": [],
   "source": [
    "from dataclasses import dataclass\n",
    "from pathlib import Path"
   ]
  },
  {
   "cell_type": "code",
   "execution_count": 7,
   "metadata": {},
   "outputs": [],
   "source": [
    "@dataclass\n",
    "class ModelTrainingConfig:\n",
    "  root_dir: Path\n",
    "  train_data_path: Path\n",
    "  test_data_path: Path\n",
    "  model_name: str\n",
    "  alpha: float\n",
    "  l1_ratio: float\n",
    "  target_col: str"
   ]
  },
  {
   "cell_type": "code",
   "execution_count": 10,
   "metadata": {},
   "outputs": [],
   "source": [
    "from src.ds_e2e_project1.constants import *\n",
    "from src.ds_e2e_project1.utils.common import read_yaml, create_directories"
   ]
  },
  {
   "cell_type": "code",
   "execution_count": 17,
   "metadata": {},
   "outputs": [],
   "source": [
    "class ConfigurationManager:\n",
    "  def __init__(\n",
    "      self,\n",
    "      config_filepath = CONFIG_FILE_PATH,\n",
    "      params_filepath = PARAMS_FILE_PATH,\n",
    "      schema_filepath = SCHEMA_FILE_PATH\n",
    "  ):\n",
    "    self.config = read_yaml(config_filepath)\n",
    "    self.params = read_yaml(params_filepath)\n",
    "    self.schema = read_yaml(schema_filepath)\n",
    "\n",
    "    create_directories([self.config.artifacts_root])\n",
    "\n",
    "\n",
    "  def get_model_training_config(self) -> ModelTrainingConfig:\n",
    "    config = self.config.model_training\n",
    "    create_directories([config.root_dir])\n",
    "\n",
    "    model_training_config = ModelTrainingConfig(\n",
    "      alpha=self.params.ElasticNet.alpha,\n",
    "      l1_ratio=self.params.ElasticNet.l1_ratio,\n",
    "      target_col=self.schema.TARGET_COLUMN.name,\n",
    "      model_name=config.model_name,\n",
    "      root_dir=config.root_dir,\n",
    "      test_data_path=config.test_data_path,\n",
    "      train_data_path=config.train_data_path\n",
    "    )\n",
    "    \n",
    "    return model_training_config\n",
    "\n"
   ]
  },
  {
   "cell_type": "code",
   "execution_count": 14,
   "metadata": {},
   "outputs": [],
   "source": [
    "from sklearn.linear_model import ElasticNet\n",
    "import pandas as pd\n",
    "import os\n",
    "import joblib\n"
   ]
  },
  {
   "cell_type": "code",
   "execution_count": 15,
   "metadata": {},
   "outputs": [],
   "source": [
    "class ModelTraining:\n",
    "  def __init__(self, model_training_config: ModelTrainingConfig):\n",
    "    self.config = model_training_config\n",
    "\n",
    "  def load_train_test_data(self):\n",
    "    train_data = pd.read_csv(self.config.train_data_path)\n",
    "    X_train = train_data.drop(columns=[self.config.target_col]).values\n",
    "    y_train = train_data[self.config.target_col].values\n",
    "    return X_train, y_train\n",
    "\n",
    "  def train_ElasticNet_model(self):\n",
    "    X_train, y_train = self.load_train_test_data()\n",
    "    model = ElasticNet(alpha=self.config.alpha, l1_ratio=self.config.l1_ratio, random_state=42)\n",
    "\n",
    "    model.fit(X=X_train, y=y_train)\n",
    "\n",
    "    joblib.dump(model, filename=os.path.join(self.config.root_dir, self.config.model_name))\n",
    "    "
   ]
  },
  {
   "cell_type": "code",
   "execution_count": 18,
   "metadata": {},
   "outputs": [
    {
     "name": "stdout",
     "output_type": "stream",
     "text": [
      "[2025-04-02 22:12:20,388 : INFO : common : YAML file config\\config.yaml read successfully]\n",
      "[2025-04-02 22:12:20,390 : INFO : common : YAML file params.yaml read successfully]\n",
      "[2025-04-02 22:12:20,393 : INFO : common : YAML file schema.yaml read successfully]\n",
      "[2025-04-02 22:12:20,395 : INFO : common : Directory artifacts created]\n",
      "[2025-04-02 22:12:20,397 : INFO : common : Directory artifacts/model_training created]\n"
     ]
    }
   ],
   "source": [
    "try:\n",
    "  config_manager = ConfigurationManager()\n",
    "  model_training_config = config_manager.get_model_training_config()\n",
    "  model_training = ModelTraining(model_training_config)\n",
    "  model_training.train_ElasticNet_model()\n",
    "except Exception as e:\n",
    "  raise e"
   ]
  },
  {
   "cell_type": "code",
   "execution_count": null,
   "metadata": {},
   "outputs": [],
   "source": []
  }
 ],
 "metadata": {
  "kernelspec": {
   "display_name": "Python 3",
   "language": "python",
   "name": "python3"
  },
  "language_info": {
   "codemirror_mode": {
    "name": "ipython",
    "version": 3
   },
   "file_extension": ".py",
   "mimetype": "text/x-python",
   "name": "python",
   "nbconvert_exporter": "python",
   "pygments_lexer": "ipython3",
   "version": "3.12.9"
  }
 },
 "nbformat": 4,
 "nbformat_minor": 2
}
