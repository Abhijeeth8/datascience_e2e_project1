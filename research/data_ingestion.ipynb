{
 "cells": [
  {
   "cell_type": "code",
   "execution_count": null,
   "metadata": {},
   "outputs": [],
   "source": [
    "import os\n",
    "# os.chdir(\"../\")"
   ]
  },
  {
   "cell_type": "code",
   "execution_count": 8,
   "metadata": {},
   "outputs": [
    {
     "data": {
      "text/plain": [
       "'d:\\\\mlflow\\\\datascience-e2e-project1'"
      ]
     },
     "execution_count": 8,
     "metadata": {},
     "output_type": "execute_result"
    }
   ],
   "source": [
    "%pwd"
   ]
  },
  {
   "cell_type": "code",
   "execution_count": 9,
   "metadata": {},
   "outputs": [],
   "source": [
    "from dataclasses import dataclass\n",
    "from pathlib import Path"
   ]
  },
  {
   "cell_type": "code",
   "execution_count": null,
   "metadata": {},
   "outputs": [],
   "source": [
    "@dataclass\n",
    "class DataIngestionConfig:\n",
    "  root_dir_for_data: Path\n",
    "  source_url: str\n",
    "  local_data_file: Path\n",
    "  unzip_dir: Path"
   ]
  },
  {
   "cell_type": "code",
   "execution_count": null,
   "metadata": {},
   "outputs": [],
   "source": []
  },
  {
   "cell_type": "code",
   "execution_count": 11,
   "metadata": {},
   "outputs": [],
   "source": [
    "from src.ds_e2e_project1.constants import *\n",
    "from src.ds_e2e_project1.utils.common import read_yaml, create_directories"
   ]
  },
  {
   "cell_type": "code",
   "execution_count": 16,
   "metadata": {},
   "outputs": [],
   "source": [
    "class ConfigurationManager:\n",
    "  def __init__(\n",
    "    self,\n",
    "    config_file_path=CONFIG_FILE_PATH,\n",
    "    params_file_path=PARAMS_FILE_PATH,\n",
    "    schema_file_path=SCHEMA_FILE_PATH):\n",
    "    self.config=read_yaml(config_file_path)\n",
    "    self.params=read_yaml(params_file_path)\n",
    "    self.schema=read_yaml(schema_file_path)\n",
    "\n",
    "    create_directories([self.config.artifacts_root])\n",
    "\n",
    "  def get_data_ingestion_config(self) -> DataIngestionConfig:\n",
    "    create_directories([self.config.data_ingestion.root_dir_for_data])\n",
    "    \n",
    "    dataIngestionConfig = DataIngestionConfig(\n",
    "      root_dir_for_data=self.config.data_ingestion.root_dir_for_data,\n",
    "      source_url=self.config.data_ingestion.source_url,\n",
    "      local_data_file=self.config.data_ingestion.local_data_file,\n",
    "      unzip_dir=self.config.data_ingestion.unzip_dir\n",
    "    )\n",
    "    return dataIngestionConfig\n",
    "\n"
   ]
  },
  {
   "cell_type": "code",
   "execution_count": 13,
   "metadata": {},
   "outputs": [],
   "source": [
    "import os\n",
    "import urllib.request as request\n",
    "from src.ds_e2e_project1 import logger\n",
    "import zipfile"
   ]
  },
  {
   "cell_type": "code",
   "execution_count": 21,
   "metadata": {},
   "outputs": [],
   "source": [
    "class DataIngestion:\n",
    "  def __init__(self, config:DataIngestionConfig):\n",
    "    self.config = config\n",
    "  \n",
    "  def download_raw_data(self):\n",
    "    if not os.path.exists(self.config.local_data_file):\n",
    "      filename, headers = request.urlretrieve(url=self.config.source_url, filename=self.config.local_data_file)\n",
    "      logger.info(f\"{filename} downloaded from the url {self.config.source_url} with headers {headers}\")\n",
    "    else:\n",
    "      logger.info(f\"File already exists\")\n",
    "\n",
    "  def extract_zip_file(self):\n",
    "    create_directories([self.config.unzip_dir])\n",
    "    with zipfile.ZipFile(self.config.local_data_file, \"r\") as zip_ref:\n",
    "      zip_ref.extractall(self.config.unzip_dir)"
   ]
  },
  {
   "cell_type": "code",
   "execution_count": 22,
   "metadata": {},
   "outputs": [
    {
     "name": "stdout",
     "output_type": "stream",
     "text": [
      "[2025-04-02 00:01:12,386 : INFO : common : YAML file config\\config.yaml read successfully]\n",
      "[2025-04-02 00:01:12,388 : INFO : common : YAML file params.yaml read successfully]\n",
      "[2025-04-02 00:01:12,390 : INFO : common : YAML file schema.yaml read successfully]\n",
      "[2025-04-02 00:01:12,391 : INFO : common : Directory artifacts created]\n",
      "[2025-04-02 00:01:12,392 : INFO : common : Directory artifacts/data_ingestion created]\n",
      "[2025-04-02 00:01:12,393 : INFO : 158341820 : File already exists]\n",
      "[2025-04-02 00:01:12,395 : INFO : common : Directory artifacts/data_ingestion created]\n"
     ]
    }
   ],
   "source": [
    "try:\n",
    "  config = ConfigurationManager()\n",
    "  data_ingestion_config = config.get_data_ingestion_config()\n",
    "  data_ingestion = DataIngestion(config=data_ingestion_config)\n",
    "  data_ingestion.download_raw_data()\n",
    "  data_ingestion.extract_zip_file()\n",
    "except Exception as e:\n",
    "  raise e"
   ]
  },
  {
   "cell_type": "code",
   "execution_count": null,
   "metadata": {},
   "outputs": [],
   "source": []
  }
 ],
 "metadata": {
  "kernelspec": {
   "display_name": "Python 3",
   "language": "python",
   "name": "python3"
  },
  "language_info": {
   "codemirror_mode": {
    "name": "ipython",
    "version": 3
   },
   "file_extension": ".py",
   "mimetype": "text/x-python",
   "name": "python",
   "nbconvert_exporter": "python",
   "pygments_lexer": "ipython3",
   "version": "3.12.9"
  }
 },
 "nbformat": 4,
 "nbformat_minor": 2
}
