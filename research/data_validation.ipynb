{
 "cells": [
  {
   "cell_type": "code",
   "execution_count": 1,
   "metadata": {},
   "outputs": [
    {
     "data": {
      "text/plain": [
       "'d:\\\\mlflow\\\\datascience-e2e-project1\\\\research'"
      ]
     },
     "execution_count": 1,
     "metadata": {},
     "output_type": "execute_result"
    }
   ],
   "source": [
    "import os\n",
    "%pwd"
   ]
  },
  {
   "cell_type": "code",
   "execution_count": 2,
   "metadata": {},
   "outputs": [],
   "source": [
    "os.chdir(\"../\")"
   ]
  },
  {
   "cell_type": "code",
   "execution_count": 3,
   "metadata": {},
   "outputs": [
    {
     "data": {
      "text/plain": [
       "'d:\\\\mlflow\\\\datascience-e2e-project1'"
      ]
     },
     "execution_count": 3,
     "metadata": {},
     "output_type": "execute_result"
    }
   ],
   "source": [
    "%pwd"
   ]
  },
  {
   "cell_type": "code",
   "execution_count": 5,
   "metadata": {},
   "outputs": [],
   "source": [
    "import pandas as pd\n",
    "\n",
    "data=pd.read_csv(\"artifacts/data_ingestion/winequality-red.csv\")"
   ]
  },
  {
   "cell_type": "code",
   "execution_count": 7,
   "metadata": {},
   "outputs": [
    {
     "name": "stdout",
     "output_type": "stream",
     "text": [
      "<class 'pandas.core.frame.DataFrame'>\n",
      "RangeIndex: 1599 entries, 0 to 1598\n",
      "Data columns (total 12 columns):\n",
      " #   Column                Non-Null Count  Dtype  \n",
      "---  ------                --------------  -----  \n",
      " 0   fixed acidity         1599 non-null   float64\n",
      " 1   volatile acidity      1599 non-null   float64\n",
      " 2   citric acid           1599 non-null   float64\n",
      " 3   residual sugar        1599 non-null   float64\n",
      " 4   chlorides             1599 non-null   float64\n",
      " 5   free sulfur dioxide   1599 non-null   float64\n",
      " 6   total sulfur dioxide  1599 non-null   float64\n",
      " 7   density               1599 non-null   float64\n",
      " 8   pH                    1599 non-null   float64\n",
      " 9   sulphates             1599 non-null   float64\n",
      " 10  alcohol               1599 non-null   float64\n",
      " 11  quality               1599 non-null   int64  \n",
      "dtypes: float64(11), int64(1)\n",
      "memory usage: 150.0 KB\n"
     ]
    }
   ],
   "source": [
    "data.info()"
   ]
  },
  {
   "cell_type": "code",
   "execution_count": 9,
   "metadata": {},
   "outputs": [],
   "source": [
    "from dataclasses import dataclass\n",
    "from pathlib import Path\n"
   ]
  },
  {
   "cell_type": "code",
   "execution_count": 10,
   "metadata": {},
   "outputs": [],
   "source": [
    "@dataclass\n",
    "class DataValidationConfig:\n",
    "  root_dir: Path\n",
    "  unzip_data_dir: Path\n",
    "  STATUS_FILE: Path\n",
    "  expected_schema: dict\n",
    "  "
   ]
  },
  {
   "cell_type": "code",
   "execution_count": null,
   "metadata": {},
   "outputs": [],
   "source": [
    "from src.ds_e2e_project1.constants import *\n",
    "from src.ds_e2e_project1.utils.common import read_yaml, create_directories\n"
   ]
  },
  {
   "cell_type": "code",
   "execution_count": null,
   "metadata": {},
   "outputs": [],
   "source": []
  },
  {
   "cell_type": "code",
   "execution_count": 14,
   "metadata": {},
   "outputs": [],
   "source": [
    "class ConfigurationManager:\n",
    "  def __init__(\n",
    "      self,\n",
    "      config_filepath = CONFIG_FILE_PATH,\n",
    "      params_filepath = PARAMS_FILE_PATH,\n",
    "      schema_filepath = SCHEMA_FILE_PATH\n",
    "  ):\n",
    "    self.config = read_yaml(config_filepath)\n",
    "    self.params = read_yaml(params_filepath)\n",
    "    self.schema = read_yaml(schema_filepath)\n",
    "\n",
    "    create_directories([self.config.artifacts_root])\n",
    "\n",
    "  def get_data_validation_config(self) -> DataValidationConfig:\n",
    "    config = self.config.data_validation\n",
    "    create_directories([config.root_dir])\n",
    "\n",
    "    dataValidationConfig = DataValidationConfig(\n",
    "      unzip_data_dir= config.unzip_data_dir,\n",
    "      root_dir= config.root_dir,\n",
    "      STATUS_FILE= config.STATUS_FILE,\n",
    "      expected_schema= self.schema.COLUMNS\n",
    "    )\n",
    "\n",
    "    return dataValidationConfig\n",
    "\n",
    "\n",
    "    \n"
   ]
  },
  {
   "cell_type": "code",
   "execution_count": 17,
   "metadata": {},
   "outputs": [],
   "source": [
    "import pandas as pd"
   ]
  },
  {
   "cell_type": "code",
   "execution_count": 24,
   "metadata": {},
   "outputs": [],
   "source": [
    "class DataValidation:\n",
    "  def __init__(self, data_val_config: DataValidationConfig):\n",
    "    self.config = data_val_config\n",
    "\n",
    "  def validate_columns(self) -> bool:\n",
    "    try:\n",
    "      data = pd.read_csv(self.config.unzip_data_dir)\n",
    "      data_cols = list(data.columns)\n",
    "      expected_cols =  self.config.expected_schema.keys()\n",
    "      valid_status = None\n",
    "\n",
    "      for data_col in data_cols:\n",
    "        if data_col not in expected_cols:\n",
    "          valid_status = False\n",
    "          break\n",
    "        else:\n",
    "          valid_status = True\n",
    "      \n",
    "      with open(self.config.STATUS_FILE, \"w\") as f:\n",
    "          f.write(f\"Validation_status : {valid_status}\")\n",
    "      return valid_status\n",
    "    except Exception as e:\n",
    "      raise e\n"
   ]
  },
  {
   "cell_type": "code",
   "execution_count": 25,
   "metadata": {},
   "outputs": [
    {
     "name": "stdout",
     "output_type": "stream",
     "text": [
      "[2025-04-02 19:05:57,034 : INFO : common : YAML file config\\config.yaml read successfully]\n",
      "[2025-04-02 19:05:57,036 : INFO : common : YAML file params.yaml read successfully]\n",
      "[2025-04-02 19:05:57,039 : INFO : common : YAML file schema.yaml read successfully]\n",
      "[2025-04-02 19:05:57,042 : INFO : common : Directory artifacts created]\n",
      "[2025-04-02 19:05:57,043 : INFO : common : Directory artifacts/data_validation created]\n"
     ]
    }
   ],
   "source": [
    "try:\n",
    "  config_manager = ConfigurationManager()\n",
    "  validation_config = config_manager.get_data_validation_config()\n",
    "  data_validation = DataValidation(validation_config)\n",
    "  is_data_valid = data_validation.validate_columns()\n",
    "except Exception as e:\n",
    "  raise e"
   ]
  },
  {
   "cell_type": "code",
   "execution_count": 18,
   "metadata": {},
   "outputs": [],
   "source": [
    "data=pd.read_csv(\"artifacts/data_ingestion/winequality-red.csv\")"
   ]
  },
  {
   "cell_type": "code",
   "execution_count": 21,
   "metadata": {},
   "outputs": [
    {
     "data": {
      "text/plain": [
       "list"
      ]
     },
     "execution_count": 21,
     "metadata": {},
     "output_type": "execute_result"
    }
   ],
   "source": [
    "type(list(data.columns))"
   ]
  },
  {
   "cell_type": "code",
   "execution_count": null,
   "metadata": {},
   "outputs": [],
   "source": []
  }
 ],
 "metadata": {
  "kernelspec": {
   "display_name": "Python 3",
   "language": "python",
   "name": "python3"
  },
  "language_info": {
   "codemirror_mode": {
    "name": "ipython",
    "version": 3
   },
   "file_extension": ".py",
   "mimetype": "text/x-python",
   "name": "python",
   "nbconvert_exporter": "python",
   "pygments_lexer": "ipython3",
   "version": "3.12.9"
  }
 },
 "nbformat": 4,
 "nbformat_minor": 2
}
