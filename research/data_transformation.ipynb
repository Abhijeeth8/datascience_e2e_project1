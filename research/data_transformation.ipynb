{
 "cells": [
  {
   "cell_type": "code",
   "execution_count": 1,
   "metadata": {},
   "outputs": [
    {
     "data": {
      "text/plain": [
       "'d:\\\\mlflow\\\\datascience-e2e-project1\\\\research'"
      ]
     },
     "execution_count": 1,
     "metadata": {},
     "output_type": "execute_result"
    }
   ],
   "source": [
    "import os\n",
    "%pwd"
   ]
  },
  {
   "cell_type": "code",
   "execution_count": 2,
   "metadata": {},
   "outputs": [
    {
     "data": {
      "text/plain": [
       "'d:\\\\mlflow\\\\datascience-e2e-project1'"
      ]
     },
     "execution_count": 2,
     "metadata": {},
     "output_type": "execute_result"
    }
   ],
   "source": [
    "os.chdir(\"../\")\n",
    "%pwd"
   ]
  },
  {
   "cell_type": "code",
   "execution_count": 4,
   "metadata": {},
   "outputs": [],
   "source": [
    "from dataclasses import dataclass\n",
    "from pathlib import Path"
   ]
  },
  {
   "cell_type": "code",
   "execution_count": 17,
   "metadata": {},
   "outputs": [],
   "source": [
    "@dataclass\n",
    "class DataTransformationConfig:\n",
    "  root_dir: Path\n",
    "  data_path: Path\n",
    "  train_data_path: Path\n",
    "  test_data_path: Path\n",
    "  \n"
   ]
  },
  {
   "cell_type": "code",
   "execution_count": 7,
   "metadata": {},
   "outputs": [],
   "source": [
    "from src.ds_e2e_project1.constants import *\n",
    "from src.ds_e2e_project1.utils.common import read_yaml, create_directories"
   ]
  },
  {
   "cell_type": "code",
   "execution_count": 18,
   "metadata": {},
   "outputs": [],
   "source": [
    "class ConfigurationManager:\n",
    "  def __init__(\n",
    "      self,\n",
    "      config_filepath = CONFIG_FILE_PATH,\n",
    "      params_filepath = PARAMS_FILE_PATH,\n",
    "      schema_filepath = SCHEMA_FILE_PATH\n",
    "  ):\n",
    "    self.config = read_yaml(config_filepath)\n",
    "    self.params = read_yaml(params_filepath)\n",
    "    self.schema = read_yaml(schema_filepath)\n",
    "\n",
    "    create_directories([self.config.artifacts_root])\n",
    "\n",
    "  def get_data_transformation_configuration(self) -> DataTransformationConfig:\n",
    "    config = self.config.data_transformation\n",
    "    create_directories([config.root_dir])\n",
    "\n",
    "\n",
    "    data_transformation_config = DataTransformationConfig(\n",
    "      data_path= config.data_path,\n",
    "      root_dir=config.root_dir,\n",
    "      train_data_path = os.path.join(config.root_dir, \"train.csv\"),\n",
    "      test_data_path = os.path.join(config.root_dir, \"test.csv\")\n",
    "    )\n",
    "\n",
    "    return data_transformation_config\n"
   ]
  },
  {
   "cell_type": "code",
   "execution_count": 29,
   "metadata": {},
   "outputs": [],
   "source": [
    "import pandas as pd\n",
    "from sklearn.model_selection import train_test_split\n",
    "from src.ds_e2e_project1 import logger"
   ]
  },
  {
   "cell_type": "code",
   "execution_count": 32,
   "metadata": {},
   "outputs": [],
   "source": [
    "class DataTransformation:\n",
    "  def __init__(self, data_transformation_config: DataTransformationConfig):\n",
    "    self.config = data_transformation_config\n",
    "\n",
    "  def transform_data(self):\n",
    "    data = pd.read_csv(self.config.data_path)\n",
    "    train, test = train_test_split(data, test_size=0.20, random_state=42)\n",
    "\n",
    "\n",
    "    train.to_csv(self.config.train_data_path, index=False)\n",
    "    test.to_csv(self.config.test_data_path, index=False)\n",
    "\n",
    "\n",
    "    logger.info(f\"Data split into train and test datasets with shapes:\\nTrain data shape : {train.shape}\\nTest data shape : {test.shape}\")\n",
    "    print(f\"Train data shape : {train.shape}\\nTest data shape : {test.shape}\")\n",
    "\n",
    "    \n",
    "\n"
   ]
  },
  {
   "cell_type": "code",
   "execution_count": 33,
   "metadata": {},
   "outputs": [
    {
     "name": "stdout",
     "output_type": "stream",
     "text": [
      "[2025-04-02 21:15:58,748 : INFO : common : YAML file config\\config.yaml read successfully]\n",
      "[2025-04-02 21:15:58,751 : INFO : common : YAML file params.yaml read successfully]\n",
      "[2025-04-02 21:15:58,755 : INFO : common : YAML file schema.yaml read successfully]\n",
      "[2025-04-02 21:15:58,757 : INFO : common : Directory artifacts created]\n",
      "[2025-04-02 21:15:58,758 : INFO : common : Directory artifacts/data_transformation created]\n",
      "[2025-04-02 21:15:58,814 : INFO : 4134411701 : Data split into train and test datasets with shapes:\n",
      "Train data shape : (1279, 12)\n",
      "Test data shape : (320, 12)]\n",
      "Train data shape : (1279, 12)\n",
      "Test data shape : (320, 12)\n"
     ]
    }
   ],
   "source": [
    "try:\n",
    "  config_manager = ConfigurationManager()\n",
    "  data_transformation_config = config_manager.get_data_transformation_configuration()\n",
    "  data_transformation = DataTransformation(data_transformation_config)\n",
    "  data_transformation.transform_data()\n",
    "except Exception as e:\n",
    "  raise e"
   ]
  },
  {
   "cell_type": "code",
   "execution_count": null,
   "metadata": {},
   "outputs": [],
   "source": []
  }
 ],
 "metadata": {
  "kernelspec": {
   "display_name": "Python 3",
   "language": "python",
   "name": "python3"
  },
  "language_info": {
   "codemirror_mode": {
    "name": "ipython",
    "version": 3
   },
   "file_extension": ".py",
   "mimetype": "text/x-python",
   "name": "python",
   "nbconvert_exporter": "python",
   "pygments_lexer": "ipython3",
   "version": "3.12.9"
  }
 },
 "nbformat": 4,
 "nbformat_minor": 2
}
